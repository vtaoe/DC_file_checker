{
  "nbformat": 4,
  "nbformat_minor": 0,
  "metadata": {
    "colab": {
      "name": "index.ipynb",
      "provenance": []
    },
    "kernelspec": {
      "display_name": "Python 3",
      "language": "python",
      "name": "python3"
    },
    "language_info": {
      "codemirror_mode": {
        "name": "ipython",
        "version": 3
      },
      "file_extension": ".py",
      "mimetype": "text/x-python",
      "name": "python",
      "nbconvert_exporter": "python",
      "pygments_lexer": "ipython3",
      "version": "3.7.4"
    }
  },
  "cells": [
    {
      "cell_type": "markdown",
      "metadata": {
        "id": "DAdMJOMEXcVx",
        "colab_type": "text"
      },
      "source": [
        "# Welcome\n",
        "\n",
        "The purpose of this code base is to help you run tests "
      ]
    },
    {
      "cell_type": "code",
      "metadata": {
        "id": "mgp8pos_YJmm",
        "colab_type": "code",
        "colab": {
          "base_uri": "https://localhost:8080/",
          "height": 268
        },
        "outputId": "4b854c75-bd94-4e3b-ee27-33f50062cc3e"
      },
      "source": [
        "!pip install petl"
      ],
      "execution_count": 3,
      "outputs": [
        {
          "output_type": "stream",
          "text": [
            "Collecting petl\n",
            "\u001b[?25l  Downloading https://files.pythonhosted.org/packages/09/5d/7b1adad38b313f1248773753ae8cbda945eceeb6bbc0b6cf11fa8e0bbe8f/petl-1.6.3.tar.gz (231kB)\n",
            "\r\u001b[K     |█▍                              | 10kB 17.2MB/s eta 0:00:01\r\u001b[K     |██▉                             | 20kB 3.0MB/s eta 0:00:01\r\u001b[K     |████▎                           | 30kB 3.1MB/s eta 0:00:01\r\u001b[K     |█████▋                          | 40kB 4.0MB/s eta 0:00:01\r\u001b[K     |███████                         | 51kB 3.4MB/s eta 0:00:01\r\u001b[K     |████████▌                       | 61kB 3.7MB/s eta 0:00:01\r\u001b[K     |██████████                      | 71kB 3.9MB/s eta 0:00:01\r\u001b[K     |███████████▎                    | 81kB 4.3MB/s eta 0:00:01\r\u001b[K     |████████████▊                   | 92kB 4.6MB/s eta 0:00:01\r\u001b[K     |██████████████▏                 | 102kB 4.4MB/s eta 0:00:01\r\u001b[K     |███████████████▋                | 112kB 4.4MB/s eta 0:00:01\r\u001b[K     |█████████████████               | 122kB 4.4MB/s eta 0:00:01\r\u001b[K     |██████████████████▍             | 133kB 4.4MB/s eta 0:00:01\r\u001b[K     |███████████████████▉            | 143kB 4.4MB/s eta 0:00:01\r\u001b[K     |█████████████████████▎          | 153kB 4.4MB/s eta 0:00:01\r\u001b[K     |██████████████████████▋         | 163kB 4.4MB/s eta 0:00:01\r\u001b[K     |████████████████████████        | 174kB 4.4MB/s eta 0:00:01\r\u001b[K     |█████████████████████████▌      | 184kB 4.4MB/s eta 0:00:01\r\u001b[K     |███████████████████████████     | 194kB 4.4MB/s eta 0:00:01\r\u001b[K     |████████████████████████████▎   | 204kB 4.4MB/s eta 0:00:01\r\u001b[K     |█████████████████████████████▊  | 215kB 4.4MB/s eta 0:00:01\r\u001b[K     |███████████████████████████████▏| 225kB 4.4MB/s eta 0:00:01\r\u001b[K     |████████████████████████████████| 235kB 4.4MB/s \n",
            "\u001b[?25h  Installing build dependencies ... \u001b[?25l\u001b[?25hdone\n",
            "  Getting requirements to build wheel ... \u001b[?25l\u001b[?25hdone\n",
            "    Preparing wheel metadata ... \u001b[?25l\u001b[?25hdone\n",
            "Building wheels for collected packages: petl\n",
            "  Building wheel for petl (PEP 517) ... \u001b[?25l\u001b[?25hdone\n",
            "  Created wheel for petl: filename=petl-1.6.3-cp36-none-any.whl size=209891 sha256=4a2d9122fbcee3474edd665d1ad4cf127a9c8e277c4b9315ede8a6e4fd6283a0\n",
            "  Stored in directory: /root/.cache/pip/wheels/df/36/12/20941d8cae9b67fa447ae44c85940aedeb2a3b303d706f6234\n",
            "Successfully built petl\n",
            "Installing collected packages: petl\n",
            "Successfully installed petl-1.6.3\n"
          ],
          "name": "stdout"
        }
      ]
    },
    {
      "cell_type": "code",
      "metadata": {
        "id": "wPah1KjaX0IA",
        "colab_type": "code",
        "colab": {}
      },
      "source": [
        "# packages we need\n",
        "import petl as etl\n",
        "import csv"
      ],
      "execution_count": 4,
      "outputs": []
    },
    {
      "cell_type": "code",
      "metadata": {
        "id": "gBlW2-g-Ychi",
        "colab_type": "code",
        "colab": {}
      },
      "source": [
        "# Load files\n",
        "etl.fromcsv('example.csv')"
      ],
      "execution_count": null,
      "outputs": []
    },
    {
      "cell_type": "code",
      "metadata": {
        "id": "tPDZsfMjZGdE",
        "colab_type": "code",
        "colab": {}
      },
      "source": [
        "header = ('foo', 'bar', 'baz')\n",
        "constraints = [\n",
        "     dict(name='foo_int', field='foo', test=int),\n",
        "     dict(name='bar_date', field='bar', test=etl.dateparser('%Y-%m-%d')),\n",
        "     dict(name='baz_enum', field='baz', assertion=lambda v: v in ['Y', 'N']),\n",
        "     dict(name='not_none', assertion=lambda row: None not in row),\n",
        "     dict(name='qux_int', field='qux', test=int, optional=True),\n",
        " ]\n",
        "# now validate a table\n",
        "table = (('foo', 'bar', 'bazzz'),\n",
        "          (1, '2000-01-01', 'Y'),\n",
        "          ('x', '2010-10-10', 'N'),\n",
        "          (2, '2000/01/01', 'Y'),\n",
        "          (3, '2015-12-12', 'x'),\n",
        "          (4, None, 'N'),\n",
        "          ('y', '1999-99-99', 'z'),\n",
        "          (6, '2000-01-01'),\n",
        "          (7, '2001-02-02', 'N', True))\n",
        "problems = etl.validate(table, constraints=constraints, header=header)\n",
        "problems.lookall()"
      ],
      "execution_count": null,
      "outputs": []
    }
  ]
}