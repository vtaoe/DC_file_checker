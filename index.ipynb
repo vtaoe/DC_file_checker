{
  "nbformat": 4,
  "nbformat_minor": 0,
  "metadata": {
    "colab": {
      "name": "index.ipynb",
      "provenance": [],
      "toc_visible": true
    },
    "kernelspec": {
      "display_name": "Python 3",
      "language": "python",
      "name": "python3"
    },
    "language_info": {
      "codemirror_mode": {
        "name": "ipython",
        "version": 3
      },
      "file_extension": ".py",
      "mimetype": "text/x-python",
      "name": "python",
      "nbconvert_exporter": "python",
      "pygments_lexer": "ipython3",
      "version": "3.7.4"
    }
  },
  "cells": [
    {
      "cell_type": "markdown",
      "metadata": {
        "id": "DAdMJOMEXcVx",
        "colab_type": "text"
      },
      "source": [
        "# Welcome\n",
        "\n",
        "The purpose of this code base is to help you run tests "
      ]
    },
    {
      "cell_type": "code",
      "metadata": {
        "id": "mgp8pos_YJmm",
        "colab_type": "code",
        "colab": {
          "base_uri": "https://localhost:8080/",
          "height": 268
        },
        "outputId": "ef59a67d-018d-4d1e-b349-323cfb9b341c"
      },
      "source": [
        "!pip install petl"
      ],
      "execution_count": 1,
      "outputs": [
        {
          "output_type": "stream",
          "text": [
            "Collecting petl\n",
            "\u001b[?25l  Downloading https://files.pythonhosted.org/packages/09/5d/7b1adad38b313f1248773753ae8cbda945eceeb6bbc0b6cf11fa8e0bbe8f/petl-1.6.3.tar.gz (231kB)\n",
            "\r\u001b[K     |█▍                              | 10kB 11.7MB/s eta 0:00:01\r\u001b[K     |██▉                             | 20kB 1.8MB/s eta 0:00:01\r\u001b[K     |████▎                           | 30kB 2.2MB/s eta 0:00:01\r\u001b[K     |█████▋                          | 40kB 2.5MB/s eta 0:00:01\r\u001b[K     |███████                         | 51kB 2.0MB/s eta 0:00:01\r\u001b[K     |████████▌                       | 61kB 2.3MB/s eta 0:00:01\r\u001b[K     |██████████                      | 71kB 2.4MB/s eta 0:00:01\r\u001b[K     |███████████▎                    | 81kB 2.8MB/s eta 0:00:01\r\u001b[K     |████████████▊                   | 92kB 2.9MB/s eta 0:00:01\r\u001b[K     |██████████████▏                 | 102kB 2.8MB/s eta 0:00:01\r\u001b[K     |███████████████▋                | 112kB 2.8MB/s eta 0:00:01\r\u001b[K     |█████████████████               | 122kB 2.8MB/s eta 0:00:01\r\u001b[K     |██████████████████▍             | 133kB 2.8MB/s eta 0:00:01\r\u001b[K     |███████████████████▉            | 143kB 2.8MB/s eta 0:00:01\r\u001b[K     |█████████████████████▎          | 153kB 2.8MB/s eta 0:00:01\r\u001b[K     |██████████████████████▋         | 163kB 2.8MB/s eta 0:00:01\r\u001b[K     |████████████████████████        | 174kB 2.8MB/s eta 0:00:01\r\u001b[K     |█████████████████████████▌      | 184kB 2.8MB/s eta 0:00:01\r\u001b[K     |███████████████████████████     | 194kB 2.8MB/s eta 0:00:01\r\u001b[K     |████████████████████████████▎   | 204kB 2.8MB/s eta 0:00:01\r\u001b[K     |█████████████████████████████▊  | 215kB 2.8MB/s eta 0:00:01\r\u001b[K     |███████████████████████████████▏| 225kB 2.8MB/s eta 0:00:01\r\u001b[K     |████████████████████████████████| 235kB 2.8MB/s \n",
            "\u001b[?25h  Installing build dependencies ... \u001b[?25l\u001b[?25hdone\n",
            "  Getting requirements to build wheel ... \u001b[?25l\u001b[?25hdone\n",
            "    Preparing wheel metadata ... \u001b[?25l\u001b[?25hdone\n",
            "Building wheels for collected packages: petl\n",
            "  Building wheel for petl (PEP 517) ... \u001b[?25l\u001b[?25hdone\n",
            "  Created wheel for petl: filename=petl-1.6.3-cp36-none-any.whl size=209893 sha256=3d21891301f1b2d4e5e0740ca53d7745754f11c9cb7a65da6557d06675f28fab\n",
            "  Stored in directory: /root/.cache/pip/wheels/df/36/12/20941d8cae9b67fa447ae44c85940aedeb2a3b303d706f6234\n",
            "Successfully built petl\n",
            "Installing collected packages: petl\n",
            "Successfully installed petl-1.6.3\n"
          ],
          "name": "stdout"
        }
      ]
    },
    {
      "cell_type": "code",
      "metadata": {
        "id": "wPah1KjaX0IA",
        "colab_type": "code",
        "colab": {}
      },
      "source": [
        "# packages we need\n",
        "import petl as etl\n",
        "import csv"
      ],
      "execution_count": 2,
      "outputs": []
    },
    {
      "cell_type": "code",
      "metadata": {
        "id": "gBlW2-g-Ychi",
        "colab_type": "code",
        "colab": {}
      },
      "source": [
        "# Load files\n",
        "table = etl.fromcsv('04_0_Student_Identity_example.csv')"
      ],
      "execution_count": 6,
      "outputs": []
    },
    {
      "cell_type": "code",
      "metadata": {
        "id": "a0li5LWws5H4",
        "colab_type": "code",
        "colab": {
          "base_uri": "https://localhost:8080/",
          "height": 79
        },
        "outputId": "eeea97a2-2c77-40d7-f3fe-f8bd7ea5945c"
      },
      "source": [
        "table"
      ],
      "execution_count": 7,
      "outputs": [
        {
          "output_type": "execute_result",
          "data": {
            "text/html": [
              "<table class='petl'>\n",
              "<thead>\n",
              "<tr>\n",
              "<th>ADMINID</th>\n",
              "<th>ENRORGID</th>\n",
              "<th>LCLSTUNUM</th>\n",
              "<th>PERMNUMBER</th>\n",
              "<th>FNAME</th>\n",
              "<th>MNAME</th>\n",
              "<th>LNAME</th>\n",
              "<th>POSTNAME</th>\n",
              "<th>DOB</th>\n",
              "<th>GENDER</th>\n",
              "<th>SY</th>\n",
              "</tr>\n",
              "</thead>\n",
              "<tbody>\n",
              "<tr>\n",
              "<td></td>\n",
              "<td>PS359</td>\n",
              "<td>123</td>\n",
              "<td>123456789</td>\n",
              "<td>James</td>\n",
              "<td>Joseph Nadeau</td>\n",
              "<td></td>\n",
              "<td>4/4/1984</td>\n",
              "<td>M</td>\n",
              "<td>2020</td>\n",
              "<td>None</td>\n",
              "</tr>\n",
              "<tr>\n",
              "<td>SU015</td>\n",
              "<td></td>\n",
              "<td>123</td>\n",
              "<td>123456789</td>\n",
              "<td>James</td>\n",
              "<td>Joseph</td>\n",
              "<td>Nadeau</td>\n",
              "<td></td>\n",
              "<td>4/4/1984</td>\n",
              "<td>M</td>\n",
              "<td>2020</td>\n",
              "</tr>\n",
              "</tbody>\n",
              "</table>\n"
            ],
            "text/plain": [
              "+---------+----------+-----------+-------------+---------+-----------------+----------+------------+------------+--------+--------+\n",
              "| ADMINID | ENRORGID | LCLSTUNUM | PERMNUMBER  | FNAME   | MNAME           | LNAME    | POSTNAME   | DOB        | GENDER | SY     |\n",
              "+=========+==========+===========+=============+=========+=================+==========+============+============+========+========+\n",
              "| ''      | 'PS359'  | '123'     | '123456789' | 'James' | 'Joseph Nadeau' | ''       | '4/4/1984' | 'M'        | '2020' |        |\n",
              "+---------+----------+-----------+-------------+---------+-----------------+----------+------------+------------+--------+--------+\n",
              "| 'SU015' | ''       | '123'     | '123456789' | 'James' | 'Joseph'        | 'Nadeau' | ''         | '4/4/1984' | 'M'    | '2020' |\n",
              "+---------+----------+-----------+-------------+---------+-----------------+----------+------------+------------+--------+--------+"
            ]
          },
          "metadata": {
            "tags": []
          },
          "execution_count": 7
        }
      ]
    },
    {
      "cell_type": "code",
      "metadata": {
        "id": "tPDZsfMjZGdE",
        "colab_type": "code",
        "colab": {
          "base_uri": "https://localhost:8080/",
          "height": 106
        },
        "outputId": "4f2a22e3-1cdb-4b60-d45b-bd7267a359cd"
      },
      "source": [
        "header = ('ADMINID','ENRORGID',\t'LCLSTUNUM',\n",
        "          'PERMNUMBER',\t'FNAME',\t'MNAME',\t'LNAME',\n",
        "          'POSTNAME',\t'DOB',\t'GENDER',\t'SY')\n",
        "constraints = [\n",
        "    dict(name='ADMINID_is_not_null', field='ADMINID', test=lambda x: x != x),\n",
        "    dict(name='ENRORGID_is_not_null', field='ENRORGID', test=lambda x: x != x)          \n",
        "    #  dict(name='foo_int', field='foo', test=int),\n",
        "    #  dict(name='bar_date', field='bar', test=etl.dateparser('%Y-%m-%d')),\n",
        "    #  dict(name='baz_enum', field='baz', assertion=lambda v: v in ['Y', 'N']),\n",
        "    #  dict(name='not_none', assertion=lambda row: None not in row),\n",
        "    #  dict(name='qux_int', field='qux', test=int, optional=True),\n",
        " ]\n",
        "\n",
        "problems = etl.validate(table, constraints=constraints, header=header)\n",
        "problems.lookall()"
      ],
      "execution_count": 14,
      "outputs": [
        {
          "output_type": "execute_result",
          "data": {
            "text/plain": [
              "+-----------+-----+-------+-------+------------------+\n",
              "| name      | row | field | value | error            |\n",
              "+===========+=====+=======+=======+==================+\n",
              "| '__len__' |   1 | None  |    10 | 'AssertionError' |\n",
              "+-----------+-----+-------+-------+------------------+"
            ]
          },
          "metadata": {
            "tags": []
          },
          "execution_count": 14
        }
      ]
    },
    {
      "cell_type": "code",
      "metadata": {
        "id": "FNix3OeNtbDc",
        "colab_type": "code",
        "colab": {}
      },
      "source": [
        ""
      ],
      "execution_count": null,
      "outputs": []
    }
  ]
}