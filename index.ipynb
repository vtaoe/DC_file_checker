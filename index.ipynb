{
 "cells": [
  {
   "cell_type": "markdown",
   "metadata": {
    "colab": {},
    "colab_type": "code",
    "id": "IV25qYLLbhkN"
   },
   "source": [
    "# Welcome\n",
    "\n",
    "The purpose of this code base is to help you run tests "
   ]
  },
  {
   "cell_type": "code",
   "execution_count": null,
   "metadata": {
    "colab": {},
    "colab_type": "code",
    "id": "yHqtCUcPbhkU"
   },
   "outputs": [],
   "source": [
    "# nbi:hide_in\n",
    "test_view = w.Output()\n",
    "\n",
    "count = 0\n",
    "@test_view.capture(clear_output=True)\n",
    "def test_button_click(e):\n",
    "    global count\n",
    "    count+=1\n",
    "    display('Button pressed %s times' % str(count))\n",
    "\n",
    "test_button = w.Button(description=\"Test Button\")\n",
    "test_button.on_click(test_button_click)\n",
    "display(test_button)"
   ]
  },
  {
   "cell_type": "code",
   "execution_count": null,
   "metadata": {
    "colab": {},
    "colab_type": "code",
    "id": "ziDzuk2cbhki"
   },
   "outputs": [],
   "source": [
    "# nbi:hide_in\n",
    "display(test_view)"
   ]
  }
 ],
 "metadata": {
  "colab": {
   "name": "index.ipynb",
   "provenance": []
  },
  "kernelspec": {
   "display_name": "Python 3",
   "language": "python",
   "name": "python3"
  },
  "language_info": {
   "codemirror_mode": {
    "name": "ipython",
    "version": 3
   },
   "file_extension": ".py",
   "mimetype": "text/x-python",
   "name": "python",
   "nbconvert_exporter": "python",
   "pygments_lexer": "ipython3",
   "version": "3.7.4"
  }
 },
 "nbformat": 4,
 "nbformat_minor": 4
}
